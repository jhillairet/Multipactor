{
 "cells": [
  {
   "cell_type": "code",
   "execution_count": 2,
   "metadata": {
    "collapsed": false
   },
   "outputs": [
    {
     "name": "stdout",
     "output_type": "stream",
     "text": [
      "Populating the interactive namespace from numpy and matplotlib\n"
     ]
    }
   ],
   "source": [
    "%pylab inline"
   ]
  },
  {
   "cell_type": "markdown",
   "metadata": {},
   "source": [
    "Here we read the Excel data."
   ]
  },
  {
   "cell_type": "code",
   "execution_count": 3,
   "metadata": {
    "collapsed": false
   },
   "outputs": [],
   "source": [
    "import pandas as pd"
   ]
  },
  {
   "cell_type": "code",
   "execution_count": 4,
   "metadata": {
    "collapsed": false
   },
   "outputs": [],
   "source": [
    "data = pd.read_excel('data/2015-04-16_Analyse_Spectres_Al300_TiN10nm_Julien.xlsx')"
   ]
  },
  {
   "cell_type": "code",
   "execution_count": 5,
   "metadata": {
    "collapsed": false
   },
   "outputs": [
    {
     "data": {
      "text/html": [
       "<div style=\"max-height:1000px;max-width:1500px;overflow:auto;\">\n",
       "<table border=\"1\" class=\"dataframe\">\n",
       "  <thead>\n",
       "    <tr style=\"text-align: right;\">\n",
       "      <th></th>\n",
       "      <th>Ecanon [eV]</th>\n",
       "      <th>Kinetic Energy [eV]</th>\n",
       "      <th>Intensity[cts/s]</th>\n",
       "      <th>Ecanon [eV].1</th>\n",
       "      <th>Kinetic Energy [eV].1</th>\n",
       "      <th>Intensity[cts/s].1</th>\n",
       "      <th>Ecanon [eV].2</th>\n",
       "      <th>Kinetic Energy [eV].2</th>\n",
       "      <th>Intensity[cts/s].2</th>\n",
       "      <th>Ecanon [eV].3</th>\n",
       "      <th>...</th>\n",
       "      <th>Intensity[cts/s].12</th>\n",
       "      <th>Ecanon [eV].13</th>\n",
       "      <th>Kinetic Energy [eV].13</th>\n",
       "      <th>Intensity[cts/s].13</th>\n",
       "      <th>Ecanon [eV].14</th>\n",
       "      <th>Kinetic Energy [eV].14</th>\n",
       "      <th>Intensity[cts/s].14</th>\n",
       "      <th>Ecanon [eV].15</th>\n",
       "      <th>Kinetic Energy [eV].15</th>\n",
       "      <th>Intensity[cts/s].15</th>\n",
       "    </tr>\n",
       "  </thead>\n",
       "  <tbody>\n",
       "    <tr>\n",
       "      <th>0</th>\n",
       "      <td>10</td>\n",
       "      <td>-3.0</td>\n",
       "      <td>9980</td>\n",
       "      <td>15</td>\n",
       "      <td>-3.0</td>\n",
       "      <td>8800</td>\n",
       "      <td>20</td>\n",
       "      <td>-3.0</td>\n",
       "      <td>17510</td>\n",
       "      <td>25</td>\n",
       "      <td>...</td>\n",
       "      <td>176715</td>\n",
       "      <td>135</td>\n",
       "      <td>-3.0</td>\n",
       "      <td>214045</td>\n",
       "      <td>165</td>\n",
       "      <td>-3.0</td>\n",
       "      <td>255915</td>\n",
       "      <td>198</td>\n",
       "      <td>-3.0</td>\n",
       "      <td>302750</td>\n",
       "    </tr>\n",
       "    <tr>\n",
       "      <th>1</th>\n",
       "      <td>NaN</td>\n",
       "      <td>-2.9</td>\n",
       "      <td>10235</td>\n",
       "      <td>NaN</td>\n",
       "      <td>-2.9</td>\n",
       "      <td>9410</td>\n",
       "      <td>NaN</td>\n",
       "      <td>-2.9</td>\n",
       "      <td>19380</td>\n",
       "      <td>NaN</td>\n",
       "      <td>...</td>\n",
       "      <td>187480</td>\n",
       "      <td>NaN</td>\n",
       "      <td>-2.9</td>\n",
       "      <td>225945</td>\n",
       "      <td>NaN</td>\n",
       "      <td>-2.9</td>\n",
       "      <td>270925</td>\n",
       "      <td>NaN</td>\n",
       "      <td>-2.9</td>\n",
       "      <td>322010</td>\n",
       "    </tr>\n",
       "    <tr>\n",
       "      <th>2</th>\n",
       "      <td>NaN</td>\n",
       "      <td>-2.8</td>\n",
       "      <td>11285</td>\n",
       "      <td>NaN</td>\n",
       "      <td>-2.8</td>\n",
       "      <td>10190</td>\n",
       "      <td>NaN</td>\n",
       "      <td>-2.8</td>\n",
       "      <td>19870</td>\n",
       "      <td>NaN</td>\n",
       "      <td>...</td>\n",
       "      <td>201960</td>\n",
       "      <td>NaN</td>\n",
       "      <td>-2.8</td>\n",
       "      <td>247095</td>\n",
       "      <td>NaN</td>\n",
       "      <td>-2.8</td>\n",
       "      <td>272115</td>\n",
       "      <td>NaN</td>\n",
       "      <td>-2.8</td>\n",
       "      <td>345960</td>\n",
       "    </tr>\n",
       "    <tr>\n",
       "      <th>3</th>\n",
       "      <td>NaN</td>\n",
       "      <td>-2.7</td>\n",
       "      <td>11985</td>\n",
       "      <td>NaN</td>\n",
       "      <td>-2.7</td>\n",
       "      <td>10845</td>\n",
       "      <td>NaN</td>\n",
       "      <td>-2.7</td>\n",
       "      <td>19450</td>\n",
       "      <td>NaN</td>\n",
       "      <td>...</td>\n",
       "      <td>200350</td>\n",
       "      <td>NaN</td>\n",
       "      <td>-2.7</td>\n",
       "      <td>242555</td>\n",
       "      <td>NaN</td>\n",
       "      <td>-2.7</td>\n",
       "      <td>307890</td>\n",
       "      <td>NaN</td>\n",
       "      <td>-2.7</td>\n",
       "      <td>365220</td>\n",
       "    </tr>\n",
       "    <tr>\n",
       "      <th>4</th>\n",
       "      <td>NaN</td>\n",
       "      <td>-2.6</td>\n",
       "      <td>12395</td>\n",
       "      <td>NaN</td>\n",
       "      <td>-2.6</td>\n",
       "      <td>10805</td>\n",
       "      <td>NaN</td>\n",
       "      <td>-2.6</td>\n",
       "      <td>22075</td>\n",
       "      <td>NaN</td>\n",
       "      <td>...</td>\n",
       "      <td>224485</td>\n",
       "      <td>NaN</td>\n",
       "      <td>-2.6</td>\n",
       "      <td>270270</td>\n",
       "      <td>NaN</td>\n",
       "      <td>-2.6</td>\n",
       "      <td>319020</td>\n",
       "      <td>NaN</td>\n",
       "      <td>-2.6</td>\n",
       "      <td>382915</td>\n",
       "    </tr>\n",
       "  </tbody>\n",
       "</table>\n",
       "<p>5 rows × 48 columns</p>\n",
       "</div>"
      ],
      "text/plain": [
       "   Ecanon [eV]  Kinetic Energy [eV]  Intensity[cts/s]  Ecanon [eV].1  \\\n",
       "0           10                 -3.0              9980             15   \n",
       "1          NaN                 -2.9             10235            NaN   \n",
       "2          NaN                 -2.8             11285            NaN   \n",
       "3          NaN                 -2.7             11985            NaN   \n",
       "4          NaN                 -2.6             12395            NaN   \n",
       "\n",
       "   Kinetic Energy [eV].1  Intensity[cts/s].1  Ecanon [eV].2  \\\n",
       "0                   -3.0                8800             20   \n",
       "1                   -2.9                9410            NaN   \n",
       "2                   -2.8               10190            NaN   \n",
       "3                   -2.7               10845            NaN   \n",
       "4                   -2.6               10805            NaN   \n",
       "\n",
       "   Kinetic Energy [eV].2  Intensity[cts/s].2  Ecanon [eV].3  \\\n",
       "0                   -3.0               17510             25   \n",
       "1                   -2.9               19380            NaN   \n",
       "2                   -2.8               19870            NaN   \n",
       "3                   -2.7               19450            NaN   \n",
       "4                   -2.6               22075            NaN   \n",
       "\n",
       "          ...           Intensity[cts/s].12  Ecanon [eV].13  \\\n",
       "0         ...                        176715             135   \n",
       "1         ...                        187480             NaN   \n",
       "2         ...                        201960             NaN   \n",
       "3         ...                        200350             NaN   \n",
       "4         ...                        224485             NaN   \n",
       "\n",
       "   Kinetic Energy [eV].13  Intensity[cts/s].13  Ecanon [eV].14  \\\n",
       "0                    -3.0               214045             165   \n",
       "1                    -2.9               225945             NaN   \n",
       "2                    -2.8               247095             NaN   \n",
       "3                    -2.7               242555             NaN   \n",
       "4                    -2.6               270270             NaN   \n",
       "\n",
       "   Kinetic Energy [eV].14  Intensity[cts/s].14  Ecanon [eV].15  \\\n",
       "0                    -3.0               255915             198   \n",
       "1                    -2.9               270925             NaN   \n",
       "2                    -2.8               272115             NaN   \n",
       "3                    -2.7               307890             NaN   \n",
       "4                    -2.6               319020             NaN   \n",
       "\n",
       "   Kinetic Energy [eV].15  Intensity[cts/s].15  \n",
       "0                    -3.0               302750  \n",
       "1                    -2.9               322010  \n",
       "2                    -2.8               345960  \n",
       "3                    -2.7               365220  \n",
       "4                    -2.6               382915  \n",
       "\n",
       "[5 rows x 48 columns]"
      ]
     },
     "execution_count": 5,
     "metadata": {},
     "output_type": "execute_result"
    }
   ],
   "source": [
    "data.head()"
   ]
  },
  {
   "cell_type": "code",
   "execution_count": 6,
   "metadata": {
    "collapsed": false
   },
   "outputs": [],
   "source": [
    "d=dict([(int(data[[0]].values[0]), data[[1,2]].dropna().values), \\\n",
    "        (int(data[[3]].values[0]), data[[4,5]].dropna().values), \\\n",
    "        (int(data[[6]].values[0]), data[[7,8]].dropna().values), \\\n",
    "       (int(data[[9]].values[0]), data[[10,11]].dropna().values), \\\n",
    "       (int(data[[12]].values[0]), data[[13,14]].dropna().values), \\\n",
    "       (int(data[[15]].values[0]), data[[16,17]].dropna().values), \\\n",
    "       (int(data[[18]].values[0]), data[[19,20]].dropna().values), \\\n",
    "       (int(data[[21]].values[0]), data[[22,23]].dropna().values), \\\n",
    "       (int(data[[24]].values[0]), data[[25,26]].dropna().values), \\\n",
    "       (int(data[[27]].values[0]), data[[28,29]].dropna().values), \\\n",
    "       (int(data[[30]].values[0]), data[[31,32]].dropna().values), \\\n",
    "       (int(data[[33]].values[0]), data[[34,35]].dropna().values)])\n",
    "\n",
    "\n"
   ]
  },
  {
   "cell_type": "code",
   "execution_count": 14,
   "metadata": {
    "collapsed": false
   },
   "outputs": [
    {
     "data": {
      "text/plain": [
       "[<matplotlib.lines.Line2D at 0x7f5c72dfe650>,\n",
       " <matplotlib.lines.Line2D at 0x7f5c72dfe8d0>]"
      ]
     },
     "execution_count": 14,
     "metadata": {},
     "output_type": "execute_result"
    },
    {
     "data": {
      "image/png": "[encoded data removed]",
      "text/plain": [
       "<matplotlib.figure.Figure at 0x7f5c73274b10>"
      ]
     },
     "metadata": {},
     "output_type": "display_data"
    }
   ],
   "source": [
    "Ecanon = d.keys()\n",
    "\n",
    "plot(d[Ecanon[0]])\n",
    "\n",
    "\n"
   ]
  },
  {
   "cell_type": "code",
   "execution_count": 176,
   "metadata": {
    "collapsed": false
   },
   "outputs": [],
   "source": [
    "def D(x, s):\n",
    "    return s*x/(s - 1 + x**s)\n",
    "\n",
    "def delta_ts(E_0, E_max, delta_max, s):\n",
    "    return delta_max * D(E_0/E_max, s)\n",
    "\n",
    "def delta_e(E_0, E_e, P_1e_inf, P_1e_max, W, p):\n",
    "    return P_1e_inf \\\n",
    "        + (P_1e_max - P_1e_inf)*exp(-(abs(E_0 - E_e)/W)**p / p)\n",
    "    \n",
    "def delta_t(E_0, E_max, delta_max, E_e, P_1e_max, s, W, p, P_1e_inf=0):\n",
    "    return delta_ts(E_0, E_max, delta_max, s) + delta_e(E_0, E_e, P_1e_inf, P_1e_max, W, p)\n"
   ]
  },
  {
   "cell_type": "code",
   "execution_count": 111,
   "metadata": {
    "collapsed": true
   },
   "outputs": [],
   "source": [
    "from scipy.optimize import curve_fit"
   ]
  },
  {
   "cell_type": "code",
   "execution_count": 247,
   "metadata": {
    "collapsed": false
   },
   "outputs": [],
   "source": [
    "idx_Ecanon = 4\n",
    "\n",
    "E  = d[Ecanon[idx_Ecanon]][:,0]\n",
    "\n",
    "dE = d[Ecanon[idx_Ecanon]][:,1]\n",
    "dE = dE[E>0]\n",
    "E = E[E>0]\n",
    "\n",
    "# backscattered\n",
    "W = 0.5\n",
    "p = 2\n",
    "P_1e_inf = 0\n",
    "P_1e_max = np.max(dE[len(dE)/2:])\n",
    "E_e = E[argmin(abs(dE - P_1e_max))]\n",
    "\n",
    "# true-secondary\n",
    "s = 2.6\n",
    "delta_max = np.max(dE[0:round(len(dE)/2)])\n",
    "E_max = E[argmin(abs(dE - delta_max))]"
   ]
  },
  {
   "cell_type": "code",
   "execution_count": 248,
   "metadata": {
    "collapsed": false
   },
   "outputs": [
    {
     "name": "stdout",
     "output_type": "stream",
     "text": [
      "[  8.00000000e-01   1.33548000e+07   4.04000000e+01   7.77315000e+05\n",
      "   2.60000000e+00   5.00000000e-01   2.00000000e+00   0.00000000e+00]\n",
      "[  8.76746851e-01   1.62518604e+07   3.27703685e+03  -8.16957939e+05\n",
      "   1.92634862e+00   3.21531210e+03   4.24216752e+02  -2.75351001e+06]\n"
     ]
    }
   ],
   "source": [
    "param0 = np.array([E_max, delta_max, E_e, P_1e_max, s, W, p, P_1e_inf])\n",
    "param, cov = curve_fit(delta_t, E, dE, p0=param0)\n",
    "\n",
    "print(param0)\n",
    "print(param)"
   ]
  },
  {
   "cell_type": "code",
   "execution_count": 249,
   "metadata": {
    "collapsed": false
   },
   "outputs": [
    {
     "data": {
      "text/plain": [
       "<matplotlib.collections.PathCollection at 0x7f5c6fccd490>"
      ]
     },
     "execution_count": 249,
     "metadata": {},
     "output_type": "execute_result"
    },
    {
     "data": {
      "image/png": "[encoded data removed]",
      "text/plain": [
       "<matplotlib.figure.Figure at 0x7f5c6fe512d0>"
      ]
     },
     "metadata": {},
     "output_type": "display_data"
    }
   ],
   "source": [
    "plot(E, dE)\n",
    "plot(E, delta_t(E, *param))\n",
    "scatter(E_max, delta_max)\n",
    "scatter(E_e, P_1e_max)"
   ]
  },
  {
   "cell_type": "code",
   "execution_count": 250,
   "metadata": {
    "collapsed": true
   },
   "outputs": [],
   "source": [
    "from scipy.integrate import quad, trapz"
   ]
  },
  {
   "cell_type": "code",
   "execution_count": 251,
   "metadata": {
    "collapsed": false
   },
   "outputs": [
    {
     "data": {
      "text/plain": [
       "50602663.000000007"
      ]
     },
     "execution_count": 251,
     "metadata": {},
     "output_type": "execute_result"
    }
   ],
   "source": [
    "trapz(dE, E)"
   ]
  },
  {
   "cell_type": "code",
   "execution_count": 252,
   "metadata": {
    "collapsed": false
   },
   "outputs": [
    {
     "data": {
      "text/plain": [
       "50635056.420037538"
      ]
     },
     "execution_count": 252,
     "metadata": {},
     "output_type": "execute_result"
    }
   ],
   "source": [
    "trapz(delta_t(E, *param), E)"
   ]
  },
  {
   "cell_type": "code",
   "execution_count": 253,
   "metadata": {
    "collapsed": false
   },
   "outputs": [
    {
     "name": "stdout",
     "output_type": "stream",
     "text": [
      "0.808830402376\n",
      "0.0192263200372\n"
     ]
    }
   ],
   "source": [
    "# contributions respectives\n",
    "I0 = trapz(delta_t(E, *param), E)\n",
    "print(trapz(delta_ts(E, E_max, delta_max, s), E)/I0)\n",
    "print(trapz(delta_e(E, E_e, P_1e_inf, P_1e_max, W, p), E)/I0)"
   ]
  },
  {
   "cell_type": "code",
   "execution_count": null,
   "metadata": {
    "collapsed": true
   },
   "outputs": [],
   "source": []
  },
  {
   "cell_type": "code",
   "execution_count": null,
   "metadata": {
    "collapsed": true
   },
   "outputs": [],
   "source": []
  },
  {
   "cell_type": "code",
   "execution_count": null,
   "metadata": {
    "collapsed": true
   },
   "outputs": [],
   "source": []
  }
 ],
 "metadata": {
  "kernelspec": {
   "display_name": "Python 2",
   "language": "python",
   "name": "python2"
  },
  "language_info": {
   "codemirror_mode": {
    "name": "ipython",
    "version": 2
   },
   "file_extension": ".py",
   "mimetype": "text/x-python",
   "name": "python",
   "nbconvert_exporter": "python",
   "pygments_lexer": "ipython2",
   "version": "2.7.8"
  }
 },
 "nbformat": 4,
 "nbformat_minor": 0
}
