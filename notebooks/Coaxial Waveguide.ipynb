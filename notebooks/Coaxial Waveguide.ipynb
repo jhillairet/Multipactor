{
 "metadata": {
  "name": "",
  "signature": "sha256:f535f0817550fc78598a598fa5af07f16c79e1042b83277beaf5c58672a4afb7"
 },
 "nbformat": 3,
 "nbformat_minor": 0,
 "worksheets": [
  {
   "cells": [
    {
     "cell_type": "markdown",
     "metadata": {},
     "source": [
      "# Introduction\n",
      "This notebook explores the Multipactor phenomenon in a coaxial structure. \n",
      "\n",
      "# References\n",
      " * _Multipactor in a coaxial transmission line I_, Phys. Plasma 14, 033508 (2007)\n"
     ]
    },
    {
     "cell_type": "code",
     "collapsed": false,
     "input": [
      "%pylab inline\n",
      "from scipy.constants import c, e, m_e"
     ],
     "language": "python",
     "metadata": {},
     "outputs": [
      {
       "output_type": "stream",
       "stream": "stdout",
       "text": [
        "Populating the interactive namespace from numpy and matplotlib\n"
       ]
      }
     ],
     "prompt_number": 1
    },
    {
     "cell_type": "markdown",
     "metadata": {},
     "source": [
      "##Problem Constants"
     ]
    },
    {
     "cell_type": "code",
     "collapsed": false,
     "input": [
      "# Constants\n",
      "# outer conductor radius [m]\n",
      "Ro = 10e-3 \n",
      "# inner conductor radius [m]\n",
      "Ri = 5e-3\n",
      "# Voltage amplitude [V]\n",
      "Vc = 1200\n",
      "# initial velocity of the electron emmited from the outer conductor [m/s]\n",
      "v0 = 0\n",
      "# RF frequency\n",
      "f = 3e9\n",
      "\n",
      "# Eo is the field amplitude at the outer conductor [V/m]\n",
      "# It is related to the voltage amplitude by:\n",
      "Eo = Vc/Ro/np.log(Ro/Ri)"
     ],
     "language": "python",
     "metadata": {},
     "outputs": [],
     "prompt_number": 20
    },
    {
     "cell_type": "markdown",
     "metadata": {},
     "source": [
      "## Electron Radial Motion Analytical Expression "
     ]
    },
    {
     "cell_type": "markdown",
     "metadata": {},
     "source": [
      "$\\Delta=e E_o R_o/m$ est en [J]/[kg]=[m/s]^2. $C_1$ est en [m/s]^2 et $C_2$ en [s]."
     ]
    },
    {
     "cell_type": "code",
     "collapsed": false,
     "input": [
      "def radial_position_analytical(t, Eo, Ro, v0, f):\n",
      "    Delta = e*Eo*Ro/m_e\n",
      "    omega = 2*pi*f\n",
      "        \n",
      "    R_t0 = Ro - Delta*sin(omega*t[0])/(omega**2 * Ro)\n",
      "    R_prime_t0 = -v0 - Delta*cos(omega*t[0])/(omega*Ro)\n",
      "    \n",
      "    C1 = R_prime_t0**2 + Delta**2 / (2*omega**2 * R_t0**2)\n",
      "    C2 = t[0] - R_t0*R_prime_t0/C1\n",
      "    \n",
      "    A = np.sqrt(C1*(t-C2)**2 + Delta**2 /(2 * omega**2 * C1))\n",
      "    r = Delta/omega**2 * np.sin(omega*t)/A + A\n",
      "    \n",
      "    return r"
     ],
     "language": "python",
     "metadata": {},
     "outputs": [],
     "prompt_number": 3
    },
    {
     "cell_type": "code",
     "collapsed": false,
     "input": [
      "t = np.linspace(0e-9, 8e-9, 501)"
     ],
     "language": "python",
     "metadata": {},
     "outputs": [],
     "prompt_number": 30
    },
    {
     "cell_type": "code",
     "collapsed": false,
     "input": [
      "r = radial_position_analytical(t, Eo, Ro, v0, f)"
     ],
     "language": "python",
     "metadata": {},
     "outputs": [],
     "prompt_number": 31
    },
    {
     "cell_type": "code",
     "collapsed": false,
     "input": [
      "plot(t/1e-9, r/1e-3)\n",
      "xlabel('t [ns]')\n",
      "ylabel('Position [mm]')\n",
      "axhline(Ro, linestyle='--')\n",
      "axhline(Ri, linestyle='--')\n",
      "grid()\n",
      "ylim([Ri-1, Ro+1])"
     ],
     "language": "python",
     "metadata": {},
     "outputs": [
      {
       "metadata": {},
       "output_type": "pyout",
       "prompt_number": 53,
       "text": [
        "(-0.9575, 1.07)"
       ]
      },
      {
       "metadata": {},
       "output_type": "display_data",
       "png": "[encoded data removed]",
       "text": [
        "<matplotlib.figure.Figure at 0x79280b8>"
       ]
      }
     ],
     "prompt_number": 53
    },
    {
     "cell_type": "markdown",
     "metadata": {},
     "source": [
      "# Implication for ICRF\n",
      "For ICRF, the following constant are used to model a 30 Ohm transmission line at 60 MHz. "
     ]
    },
    {
     "cell_type": "code",
     "collapsed": false,
     "input": [
      "# 30 Ohm line\n",
      "Ro = 140e-3 / 2\n",
      "Ri = 85e-3 / 2\n",
      "f = 60e6\n",
      "v0 = 0\n",
      "# Electric field at the outer conductor from input power\n",
      "Eo = sqrt(0.5e6 * 30)/Ro/np.log(Ro/Ri)"
     ],
     "language": "python",
     "metadata": {},
     "outputs": [],
     "prompt_number": 55
    },
    {
     "cell_type": "code",
     "collapsed": false,
     "input": [
      "t = linspace(0e-9, 5e-9, 501)\n",
      "r = radial_position_analytical(t, Eo, Ro, v0, f)"
     ],
     "language": "python",
     "metadata": {},
     "outputs": [],
     "prompt_number": 108
    },
    {
     "cell_type": "code",
     "collapsed": false,
     "input": [
      "plot(t/1e-9, r/1e-3)\n",
      "xlabel('t [ns]')\n",
      "ylabel('Position [mm]')\n",
      "axhline(Ro/1e-3, linestyle='--')\n",
      "axhline(Ri/1e-3, linestyle='--')\n",
      "grid()\n",
      "#ylim([Ri/1e-3-1, Ro/1e-3+1])"
     ],
     "language": "python",
     "metadata": {},
     "outputs": [
      {
       "metadata": {},
       "output_type": "display_data",
       "png": "[encoded data removed]",
       "text": [
        "<matplotlib.figure.Figure at 0x8fb5a90>"
       ]
      }
     ],
     "prompt_number": 109
    },
    {
     "cell_type": "markdown",
     "metadata": {},
     "source": [
      "# Numerical Solution of the electron motion\n",
      "## odeint\n",
      "Here we want to solve the following equation:\n",
      "$$\n",
      "m \\frac{d^2 r}{dt^2} = -e E_0 \\frac{R_o}{r} \\sin\\omega t\n",
      "$$"
     ]
    },
    {
     "cell_type": "markdown",
     "metadata": {},
     "source": [
      "To integrate this equation we must rewrite it as a system of first-order ODEs by introducing a new variable : \n",
      "$$\n",
      "\\dot{r} = y\n",
      "$$\n",
      "$$\n",
      "\\dot{y} = -e E_o \\frac{R_o}{m r} \\sin\\omega t\n",
      "$$"
     ]
    },
    {
     "cell_type": "markdown",
     "metadata": {},
     "source": [
      "Writing the vector $\\vec{y}=(r,y)$, we obtain the standard form $\\dot{\\vec{y}} = \\vec{f}(\\vec{y})$ where $\\vec{f}$ is given by :\n",
      "$$\n",
      "\\vec{f} = (y, -e E_o \\frac{R_o}{m r} \\sin\\omega t)\n",
      "$$"
     ]
    },
    {
     "cell_type": "code",
     "collapsed": false,
     "input": [
      "from scipy.integrate import odeint"
     ],
     "language": "python",
     "metadata": {},
     "outputs": [],
     "prompt_number": 59
    },
    {
     "cell_type": "code",
     "collapsed": false,
     "input": [
      "def deriv(r_vec, t):\n",
      "    r, r2 = r_vec # tuple unpacking\n",
      "    \n",
      "    return [r2, -e*Eo*Ro/m_e/r*np.sin(2*pi*f*t)]"
     ],
     "language": "python",
     "metadata": {},
     "outputs": [],
     "prompt_number": 102
    },
    {
     "cell_type": "code",
     "collapsed": false,
     "input": [
      "y0 = [Ro, 0] # r(t=0)=Ro and v0=0\n",
      "\n",
      "r_num, outputs = odeint(deriv, y0, t, full_output=1)"
     ],
     "language": "python",
     "metadata": {},
     "outputs": [
      {
       "output_type": "stream",
       "stream": "stdout",
       "text": [
        "Excess work done on this call (perhaps wrong Dfun type).\n",
        "Run with full_output = 1 to get quantitative information.\n"
       ]
      }
     ],
     "prompt_number": 103
    },
    {
     "cell_type": "markdown",
     "metadata": {},
     "source": [
      "### ode"
     ]
    },
    {
     "cell_type": "code",
     "collapsed": false,
     "input": [
      "from scipy.integrate import ode\n",
      "\n",
      "\n",
      "def deriv(t, r_vec):\n",
      "    r, r2 = r_vec # tuple unpacking\n",
      "    \n",
      "    return [r_vec[1], -e*Eo*Ro/m_e/r_vec[0]*np.sin(2*pi*f*t)]\n",
      "\n",
      "r = ode(deriv, jac=None)\n",
      "#r.set_integrator('zvode')\n",
      "r.set_initial_value( [Ro,0], t=0)\n",
      "t_stop = 10e-9\n",
      "dt = 0.01e-9\n",
      "\n",
      "r_num2 = []\n",
      "t_num2 = []\n",
      "while r.successful() and r.t < t_stop:\n",
      "    r.integrate(r.t+dt)\n",
      "    r_num2.append(r.y)\n",
      "    t_num2.append(r.t)"
     ],
     "language": "python",
     "metadata": {},
     "outputs": [],
     "prompt_number": 117
    },
    {
     "cell_type": "code",
     "collapsed": false,
     "input": [
      "plot(array(t_num2), array(r_num2)[:,0])"
     ],
     "language": "python",
     "metadata": {},
     "outputs": [
      {
       "metadata": {},
       "output_type": "pyout",
       "prompt_number": 120,
       "text": [
        "[<matplotlib.lines.Line2D at 0x940dbe0>]"
       ]
      },
      {
       "metadata": {},
       "output_type": "display_data",
       "png": "[encoded data removed]",
       "text": [
        "<matplotlib.figure.Figure at 0x8cd46a0>"
       ]
      }
     ],
     "prompt_number": 120
    },
    {
     "cell_type": "code",
     "collapsed": false,
     "input": [],
     "language": "python",
     "metadata": {},
     "outputs": []
    }
   ],
   "metadata": {}
  }
 ]
}