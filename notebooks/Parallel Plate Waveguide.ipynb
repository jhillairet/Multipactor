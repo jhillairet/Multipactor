{
 "cells": [
  {
   "cell_type": "markdown",
   "metadata": {},
   "source": [
    "This notebook illustrates the properties of an electron in a parallel plate waveguide under a RF harmonic field. "
   ]
  },
  {
   "cell_type": "code",
   "execution_count": 1,
   "metadata": {
    "collapsed": false
   },
   "outputs": [
    {
     "name": "stdout",
     "output_type": "stream",
     "text": [
      "Populating the interactive namespace from numpy and matplotlib\n"
     ]
    }
   ],
   "source": [
    "%pylab inline"
   ]
  },
  {
   "cell_type": "code",
   "execution_count": 18,
   "metadata": {
    "collapsed": true
   },
   "outputs": [],
   "source": [
    "from scipy.constants import e, m_e, pi, eV"
   ]
  },
  {
   "cell_type": "markdown",
   "metadata": {},
   "source": [
    "Below we define some parameters and geometrical constants"
   ]
  },
  {
   "cell_type": "code",
   "execution_count": 3,
   "metadata": {
    "collapsed": true
   },
   "outputs": [],
   "source": [
    "d = 1e-3 # m\n",
    "f = 12e9 # Hz"
   ]
  },
  {
   "cell_type": "code",
   "execution_count": 6,
   "metadata": {
    "collapsed": true
   },
   "outputs": [],
   "source": [
    "omega = 2*pi*f"
   ]
  },
  {
   "cell_type": "code",
   "execution_count": 43,
   "metadata": {
    "collapsed": true
   },
   "outputs": [],
   "source": [
    "def V_th(v_f, v_i, omega_d, n):\n",
    "    '''\n",
    "    Threshold voltage\n",
    "    '''\n",
    "    V_th = omega_d/(2*e/m_e)*sqrt((v_f - v_i)**2 + (omega_d - (2*n-1)/2*pi*(v_f + v_i))**2)\n",
    "    \n",
    "    return V_th\n"
   ]
  },
  {
   "cell_type": "code",
   "execution_count": 58,
   "metadata": {
    "collapsed": false
   },
   "outputs": [
    {
     "data": {
      "text/plain": [
       "<matplotlib.text.Text at 0xb91df60>"
      ]
     },
     "execution_count": 58,
     "metadata": {},
     "output_type": "execute_result"
    },
    {
     "data": {
      "image/png": "[encoded data removed]",
      "text/plain": [
       "<matplotlib.figure.Figure at 0xc330eb8>"
      ]
     },
     "metadata": {},
     "output_type": "display_data"
    }
   ],
   "source": [
    "v_i = 0\n",
    "\n",
    "f_d = logspace(-3, 2, 501) # GHz.mm\n",
    "\n",
    "omega_d = (2*pi)*f_d*1e9*1e-3 # rad/s.m\n",
    "\n",
    "v_f = 20 # eV\n",
    "v_i = 0 # eV\n",
    "n = 2 # integer\n",
    "\n",
    "Vth = V_th(v_f, v_i, omega_d, n) \n",
    "# dB\n",
    "Pth = 10*log10(Vth**2 / 2.5)\n",
    "\n",
    "semilogx(f_d, Pth)\n",
    "xlabel('f.d [GHz.mm]')"
   ]
  },
  {
   "cell_type": "code",
   "execution_count": null,
   "metadata": {
    "collapsed": true
   },
   "outputs": [],
   "source": []
  }
 ],
 "metadata": {
  "kernelspec": {
   "display_name": "Python 3",
   "language": "python",
   "name": "python3"
  },
  "language_info": {
   "codemirror_mode": {
    "name": "ipython",
    "version": 3
   },
   "file_extension": ".py",
   "mimetype": "text/x-python",
   "name": "python",
   "nbconvert_exporter": "python",
   "pygments_lexer": "ipython3",
   "version": "3.3.5"
  }
 },
 "nbformat": 4,
 "nbformat_minor": 0
}
