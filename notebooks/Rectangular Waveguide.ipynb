{
 "cells": [
  {
   "cell_type": "markdown",
   "metadata": {},
   "source": [
    "# Introduction\n",
    "This notebook illustrates the motion of an electron into a rectangular waveguide.\n",
    "\n",
    "# References\n",
    " * Semenov et al., Multipactor in Rectangular Waveguides, Physics of Plasmas 14, 033501 (2007)."
   ]
  },
  {
   "cell_type": "code",
   "execution_count": 16,
   "metadata": {},
   "outputs": [
    {
     "name": "stdout",
     "output_type": "stream",
     "text": [
      "Using matplotlib backend: Qt5Agg\n",
      "Populating the interactive namespace from numpy and matplotlib\n"
     ]
    },
    {
     "name": "stderr",
     "output_type": "stream",
     "text": [
      "C:\\Users\\JH218595\\Documents\\Anaconda3\\lib\\site-packages\\IPython\\core\\magics\\pylab.py:160: UserWarning: pylab import has clobbered these variables: ['pi', 'e']\n",
      "`%matplotlib` prevents importing * from pylab and numpy\n",
      "  \"\\n`%matplotlib` prevents importing * from pylab and numpy\"\n"
     ]
    }
   ],
   "source": [
    "# Python modules import\n",
    "%pylab\n",
    "%matplotlib inline\n",
    "import numpy as np # numpy\n",
    "from scipy.constants import c, pi, m_e, e, mu_0 # some physical constants"
   ]
  },
  {
   "cell_type": "markdown",
   "metadata": {},
   "source": [
    "We consider here the fundamental mode TE10 in a rectangular waveguide of width $a$ ($-a/2<x<a/2$) and height $b$ ($0<y<b$):\n",
    "$$\n",
    "\\begin{array}{ccl}\n",
    " E_y &=& -E_0 \\cos(k_\\perp x) \\sin(\\omega t - k z) \\\\\n",
    " H_x &=& \\frac{c k}{\\omega} E_0 \\cos(k_\\perp x) \\sin(\\omega t - k z) \\\\\n",
    " H_z &=& \\frac{c k_\\perp}{\\omega} E_0 \\sin(k_\\perp x) \\cos(\\omega t - k z)\n",
    "\\end{array}\n",
    "$$"
   ]
  },
  {
   "cell_type": "code",
   "execution_count": 17,
   "metadata": {},
   "outputs": [],
   "source": [
    "def EH_field_rect_wg(x, z, t, f, E0, a):\n",
    "    \"\"\"\n",
    "    Returns the E and H field component of the TE10 mode\n",
    "    in a rectangular waveguide (a x b). \n",
    "    x being defined as [-a/2,a/2] and y in [0,b]\n",
    "    \n",
    "    Inputs:\n",
    "     - x, z, t : spatial and time coordinates\n",
    "     - f: frequency in [Hz]\n",
    "     - E0: Electric field amplitude in [V/m]\n",
    "     - a: waveguide width [m]\n",
    "     \n",
    "    Returns: \n",
    "     - Ey, Hx, Hz \n",
    "    \"\"\"\n",
    "    k_perp = pi/a\n",
    "    omega = 2*pi*f\n",
    "    k = np.sqrt((omega/c)**2 - k_perp**2)\n",
    "    Ey = -E0*np.cos(k_perp*x)*np.sin(omega*t - k*z)\n",
    "    Hx = c*k/omega*E0*np.cos(k_perp*x)*np.sin(omega*t - k*z)\n",
    "    Hz = c*k_perp/omega*E0*np.sin(k_perp*x)*np.cos(omega*t - k*z)\n",
    "    \n",
    "    return Ey, Hx, Hz"
   ]
  },
  {
   "cell_type": "markdown",
   "metadata": {},
   "source": [
    "The motion of the electron inside the waveguide is given by $m\\ddot{\\mathbf{x}}=q(\\mathbf{E} + \\dot{\\mathbf{x}}\\times\\mathbf{B})$, i.e.:\n",
    "$$\n",
    "\\begin{array}{ccl}\n",
    "     m \\ddot{y} &=& -e E_y - e H_x \\dot{z}/c + e H_z \\dot{x}/c \\\\\n",
    "     m \\ddot{x} &=& -e H_z \\dot{y}/c \\\\\n",
    "     m \\ddot{z} &=& e H_x \\dot{y}/c\n",
    "\\end{array}\n",
    "$$"
   ]
  },
  {
   "cell_type": "markdown",
   "metadata": {},
   "source": [
    "The previous system is rewritten with only first time derivatives system $\\frac{d \\mathbf{u}}{dt}=\\mathbf{f}(\\mathbf{u},t)$, with:\n",
    "$$\n",
    "\\mathbf{u} = \n",
    "\\left(\n",
    "\\begin{array}{c}\n",
    "    x \\\\ y \\\\ z \\\\ \\dot{x} \\\\ \\dot{y} \\\\ \\dot{z} \n",
    "\\end{array}\n",
    "\\right)\n",
    "$$\n",
    "and\n",
    "$$\n",
    "\\mathbf{f} =\n",
    "\\left(\n",
    "\\begin{array}{c}\n",
    "    \\dot{x} \\\\ \\dot{y} \\\\ \\dot{z} \\\\\n",
    "    -\\frac{e}{m c} H_z \\dot{y} \\\\\n",
    "    -\\frac{e}{m} E_y - \\frac{e}{m c} H_x \\dot{z} + \\frac{e}{m c} H_z \\dot{x} \\\\\n",
    "    \\frac{e}{m c} H_x \\dot{y}\n",
    "\\end{array}\n",
    "\\right)\n",
    "$$"
   ]
  },
  {
   "cell_type": "code",
   "execution_count": 18,
   "metadata": {},
   "outputs": [],
   "source": [
    "def fun(u, t, f, E0, a):\n",
    "    \"\"\"\n",
    "    Computes the derivatives f(u,t).\n",
    "    \n",
    "    Inputs:\n",
    "     - u: (x,y,z,xdot,ydot,zdot) (6x1 array)\n",
    "     - t: time [s]\n",
    "     - E0: Electric field amplitude [V/m]\n",
    "     - a: rectangular waveguide width [m]\n",
    "    \n",
    "    Returns:\n",
    "     - f(u,t) (6x1 array)\n",
    "    \n",
    "    \"\"\"\n",
    "    x, y, z, xdot, ydot, zdot = u # unpacking\n",
    "    \n",
    "    Ey, Hx, Hz = EH_field_rect_wg(x, z, t, f, E0, a)\n",
    "\n",
    "    # Additional DC field along y\n",
    "    H0 = 0/mu_0\n",
    "\n",
    "    f = [xdot, \n",
    "         ydot, \n",
    "         zdot, \n",
    "         -e/(m_e*c)*Hz*ydot + e/(m_e*c)*H0*zdot, \n",
    "         -e/m_e*Ey - e/(m_e*c)*Hx*zdot + e/(m_e*c)*Hz*xdot, \n",
    "         e/(m_e*c)*Hx*ydot - e/(m_e*c)*H0*xdot]\n",
    "    \n",
    "    return f"
   ]
  },
  {
   "cell_type": "code",
   "execution_count": 19,
   "metadata": {},
   "outputs": [],
   "source": [
    "# Constants\n",
    "a = 72e-3\n",
    "b = 34e-3\n",
    "f = 3.7e9\n",
    "E0 = 1e5\n",
    "t = linspace(0e-9, 200/f, 501) # time range to solve : 200 RF periods"
   ]
  },
  {
   "cell_type": "code",
   "execution_count": 20,
   "metadata": {},
   "outputs": [],
   "source": [
    "from scipy.integrate import odeint\n",
    "\n",
    "# electron initial location\n",
    "x0, y0, z0 = [-a/8, 0, 0]\n",
    "# electron initial velocity\n",
    "vx0, vy0, vz0 = [0, 0, 0]\n",
    "\n",
    "# initial condition\n",
    "u0 = [x0, y0, z0, vx0, vy0, vz0]\n",
    "# solve \n",
    "u_num = odeint(fun, u0, t, args=(f, E0, a))"
   ]
  },
  {
   "cell_type": "code",
   "execution_count": 21,
   "metadata": {},
   "outputs": [
    {
     "data": {
      "text/plain": [
       "<matplotlib.patches.Polygon at 0xd0ad240>"
      ]
     },
     "execution_count": 21,
     "metadata": {},
     "output_type": "execute_result"
    },
    {
     "data": {
      "image/png": "[encoded data removed]",
      "text/plain": [
       "<matplotlib.figure.Figure at 0xd086588>"
      ]
     },
     "metadata": {},
     "output_type": "display_data"
    }
   ],
   "source": [
    "# plot the (x(t), y(t)) motion of the electron in the waveguide cross section\n",
    "plot(u_num[:,0], u_num[:,1], color='r', lw=2)\n",
    "# superpose the Efield\n",
    "x = linspace(-a/2, a/2, 101)\n",
    "fill_between(x, b*cos(pi/a*x), alpha=0.1)\n",
    "# shade the waveguide walls for illustration\n",
    "axis('equal')\n",
    "axis([-a/2-5e-3, +a/2+5e-3, 0-5e-3, b+5e-3])\n",
    "axhspan(ymin=0-10e-3, ymax=0, color='#555555')\n",
    "axhspan(ymin=b, ymax=b+10e-3, color='#555555')\n",
    "axvspan(xmin=-a/2-10e-3, xmax=-a/2, color='#555555')\n",
    "axvspan(xmin=+a/2, xmax=a/2+10e-3, color='#555555')"
   ]
  },
  {
   "cell_type": "code",
   "execution_count": 22,
   "metadata": {},
   "outputs": [
    {
     "data": {
      "text/plain": [
       "<matplotlib.text.Text at 0xd077f28>"
      ]
     },
     "execution_count": 22,
     "metadata": {},
     "output_type": "execute_result"
    },
    {
     "data": {
      "image/png": "[encoded data removed]",
      "text/plain": [
       "<matplotlib.figure.Figure at 0xd0a8780>"
      ]
     },
     "metadata": {},
     "output_type": "display_data"
    }
   ],
   "source": [
    "# (x,z) plot\n",
    "plot(u_num[:,0], u_num[:,2])\n",
    "axis([-a/2-2e-3, a/2+2e-3, -10e-3, +10e-3], 'equal')\n",
    "axvline(-a/2, color='k')\n",
    "axvline(+a/2, color='k')\n",
    "xlabel('x [m]')\n",
    "ylabel('z [m]')"
   ]
  },
  {
   "cell_type": "markdown",
   "metadata": {},
   "source": [
    "In order to illustrate the motion for different starting point, we solve for many starting points and plot the result."
   ]
  },
  {
   "cell_type": "code",
   "execution_count": 23,
   "metadata": {},
   "outputs": [],
   "source": [
    "x0_vec = linspace(-a/2, a/2, 11)\n",
    "u_num_vec = []\n",
    "\n",
    "for x0 in x0_vec:\n",
    "    # initial condition\n",
    "    u0 = [x0, y0, z0, vx0, vy0, vz0]\n",
    "    # solve \n",
    "    u_num_vec.append(odeint(fun, u0, t, args=(f, E0, a)))"
   ]
  },
  {
   "cell_type": "code",
   "execution_count": 24,
   "metadata": {},
   "outputs": [
    {
     "data": {
      "text/plain": [
       "<matplotlib.patches.Polygon at 0xd28ca20>"
      ]
     },
     "execution_count": 24,
     "metadata": {},
     "output_type": "execute_result"
    },
    {
     "data": {
      "image/png": "[encoded data removed]",
      "text/plain": [
       "<matplotlib.figure.Figure at 0xd0a85c0>"
      ]
     },
     "metadata": {},
     "output_type": "display_data"
    }
   ],
   "source": [
    "for u_num in u_num_vec:\n",
    "    plot(u_num[:,0], u_num[:,1], color='r')\n",
    "    \n",
    "# shade the waveguide walls for illustration\n",
    "axis('equal')\n",
    "axis([-a/2-5e-3, +a/2+5e-3, 0-5e-3, b+5e-3])\n",
    "axhspan(ymin=0-10e-3, ymax=0, color='#555555')\n",
    "axhspan(ymin=b, ymax=b+10e-3, color='#555555')\n",
    "axvspan(xmin=-a/2-10e-3, xmax=-a/2, color='#555555')\n",
    "axvspan(xmin=+a/2, xmax=a/2+10e-3, color='#555555')    "
   ]
  },
  {
   "cell_type": "markdown",
   "metadata": {},
   "source": [
    "In order to be resonant with the wall height $b$, a particle of velocity $V$ must travel a distance $\\approx b$ (if one neglects the RF magnetic field in this case) during a half RF-period $T/2=1/(2f)=\\pi/\\omega$. More generally, it can be a odd number of (half-period) : 1, 3, 5... \n",
    "Thus, the resonance coundition is expressed as :\n",
    "$$\n",
    "b \\approx V j / (2 f)\n",
    "$$\n",
    "thus\n",
    "$$\n",
    "b \\omega \\approx V j \\pi\n",
    "$$"
   ]
  },
  {
   "cell_type": "markdown",
   "metadata": {},
   "source": [
    "The particle velocity is the addition of its initial emission velocity $V_{y0}$ (if emitted only in the normal direction) and the RF kick, given by : \n",
    "$$\n",
    "V_{RF} \\approx \\frac{e E_y}{m \\omega}\n",
    "$$\n",
    "again in the parallel plate approximation."
   ]
  }
 ],
 "metadata": {
  "kernelspec": {
   "display_name": "Python [default]",
   "language": "python",
   "name": "python3"
  }
 },
 "nbformat": 4,
 "nbformat_minor": 1
}
